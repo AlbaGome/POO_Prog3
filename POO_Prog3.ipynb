{
 "cells": [
  {
   "cell_type": "code",
   "execution_count": null,
   "id": "3a305b6e",
   "metadata": {},
   "outputs": [],
   "source": [
    "numero = 123\n",
    "titular = 'Anacleto Metralla'\n",
    "saldo = 100.0\n",
    "limite = 1000.0\n"
   ]
  },
  {
   "cell_type": "code",
   "execution_count": null,
   "id": "07d92548",
   "metadata": {},
   "outputs": [],
   "source": [
    "cuenta={'numero':123,'titular':'Anacleto Metralla','saldo':100.0,'limite':1000.0}"
   ]
  },
  {
   "cell_type": "code",
   "execution_count": null,
   "id": "9caf7fef",
   "metadata": {},
   "outputs": [],
   "source": [
    "cuenta['numero']"
   ]
  },
  {
   "cell_type": "code",
   "execution_count": null,
   "id": "046cc1c0",
   "metadata": {},
   "outputs": [],
   "source": [
    "cuenta['saldo']"
   ]
  },
  {
   "cell_type": "code",
   "execution_count": null,
   "id": "ed2b9a6f",
   "metadata": {},
   "outputs": [],
   "source": [
    "cuenta2={'numero':321,'titular':'Rosa Flores Rojas','saldo':65.0,'limite':10000.0}"
   ]
  },
  {
   "cell_type": "code",
   "execution_count": null,
   "id": "cb461fc3",
   "metadata": {},
   "outputs": [],
   "source": [
    "from test import crear_cuenta\n",
    "cuenta = crear_cuenta(123,'Anacleto Metralla',100.0,1000.0)"
   ]
  },
  {
   "cell_type": "code",
   "execution_count": null,
   "id": "8bc5add2",
   "metadata": {},
   "outputs": [],
   "source": [
    "cuenta ['numero']"
   ]
  },
  {
   "cell_type": "code",
   "execution_count": null,
   "id": "09f95ee0",
   "metadata": {},
   "outputs": [],
   "source": [
    "cuenta ['titular']"
   ]
  },
  {
   "cell_type": "code",
   "execution_count": null,
   "id": "dedc9d81",
   "metadata": {},
   "outputs": [],
   "source": [
    "from test import crear_cuenta,depositar,retirar,extracto\n",
    "cuenta = crear_cuenta(123,'Anacleto Metralla',100.0, 1000.0)\n",
    "depositar(cuenta,30)\n",
    "extracto(cuenta)"
   ]
  },
  {
   "cell_type": "code",
   "execution_count": null,
   "id": "d3c3058e",
   "metadata": {},
   "outputs": [],
   "source": [
    "retirar (cuenta,50)\n",
    "extracto (cuenta)"
   ]
  },
  {
   "cell_type": "code",
   "execution_count": null,
   "id": "33b3366e",
   "metadata": {},
   "outputs": [],
   "source": [
    "cuenta['saldo']= cuenta['saldo']+120\n",
    "cuenta['saldo']"
   ]
  },
  {
   "cell_type": "code",
   "execution_count": null,
   "id": "cf255df7",
   "metadata": {},
   "outputs": [],
   "source": [
    "cuenta2={'numero':123,'saldo':400}"
   ]
  },
  {
   "cell_type": "code",
   "execution_count": null,
   "id": "94caa5b4",
   "metadata": {},
   "outputs": [],
   "source": [
    "depositar(cuenta2,100)"
   ]
  },
  {
   "cell_type": "code",
   "execution_count": null,
   "id": "0e2670cd",
   "metadata": {},
   "outputs": [],
   "source": [
    "extracto(cuenta2)"
   ]
  },
  {
   "cell_type": "code",
   "execution_count": null,
   "id": "496e94d6",
   "metadata": {},
   "outputs": [],
   "source": [
    "cuenta['titular']"
   ]
  },
  {
   "cell_type": "code",
   "execution_count": null,
   "id": "83e7de77",
   "metadata": {},
   "outputs": [],
   "source": [
    "class Cuenta:\n",
    "    pass\n"
   ]
  },
  {
   "cell_type": "code",
   "execution_count": null,
   "id": "24d66af2",
   "metadata": {},
   "outputs": [],
   "source": [
    "from cuenta import Cuenta\n",
    "Cuenta()"
   ]
  },
  {
   "cell_type": "code",
   "execution_count": null,
   "id": "fd74e250",
   "metadata": {},
   "outputs": [],
   "source": [
    "cuenta = Cuenta()\n",
    "cuenta"
   ]
  },
  {
   "cell_type": "markdown",
   "id": "3647985f",
   "metadata": {},
   "source": [
    "### vamos a implementar nuestra clase... Cuenta"
   ]
  },
  {
   "cell_type": "code",
   "execution_count": 1,
   "id": "9e45018a",
   "metadata": {},
   "outputs": [],
   "source": [
    "class Cuenta:\n",
    "    def __init__(self):\n",
    "        print(\"Construyendo el objeto...\")"
   ]
  },
  {
   "cell_type": "code",
   "execution_count": 2,
   "id": "cc0efe6b",
   "metadata": {},
   "outputs": [
    {
     "name": "stdout",
     "output_type": "stream",
     "text": [
      "Construyendo el objeto...\n"
     ]
    },
    {
     "data": {
      "text/plain": [
       "<cuenta.Cuenta at 0x255735c09a0>"
      ]
     },
     "execution_count": 2,
     "metadata": {},
     "output_type": "execute_result"
    }
   ],
   "source": [
    "from cuenta import Cuenta\n",
    "cuenta = Cuenta()\n",
    "cuenta"
   ]
  },
  {
   "cell_type": "code",
   "execution_count": null,
   "id": "0c1148d1",
   "metadata": {},
   "outputs": [],
   "source": []
  }
 ],
 "metadata": {
  "kernelspec": {
   "display_name": "Python 3 (ipykernel)",
   "language": "python",
   "name": "python3"
  },
  "language_info": {
   "codemirror_mode": {
    "name": "ipython",
    "version": 3
   },
   "file_extension": ".py",
   "mimetype": "text/x-python",
   "name": "python",
   "nbconvert_exporter": "python",
   "pygments_lexer": "ipython3",
   "version": "3.9.13"
  }
 },
 "nbformat": 4,
 "nbformat_minor": 5
}
