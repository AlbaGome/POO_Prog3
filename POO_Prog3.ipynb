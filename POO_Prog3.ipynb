{
 "cells": [
  {
   "cell_type": "code",
   "execution_count": 1,
   "id": "3a305b6e",
   "metadata": {},
   "outputs": [],
   "source": [
    "numero = 123\n",
    "titular = 'Anacleto Metralla'\n",
    "saldo = 100.0\n",
    "limite = 1000.0\n"
   ]
  },
  {
   "cell_type": "code",
   "execution_count": 2,
   "id": "07d92548",
   "metadata": {},
   "outputs": [],
   "source": [
    "cuenta={'numero':123,'titular':'Anacleto Metralla','saldo':100.0,'limite':1000.0}"
   ]
  },
  {
   "cell_type": "code",
   "execution_count": 3,
   "id": "9caf7fef",
   "metadata": {},
   "outputs": [
    {
     "data": {
      "text/plain": [
       "123"
      ]
     },
     "execution_count": 3,
     "metadata": {},
     "output_type": "execute_result"
    }
   ],
   "source": [
    "cuenta['numero']"
   ]
  },
  {
   "cell_type": "code",
   "execution_count": 4,
   "id": "046cc1c0",
   "metadata": {},
   "outputs": [
    {
     "data": {
      "text/plain": [
       "100.0"
      ]
     },
     "execution_count": 4,
     "metadata": {},
     "output_type": "execute_result"
    }
   ],
   "source": [
    "cuenta['saldo']"
   ]
  },
  {
   "cell_type": "code",
   "execution_count": 5,
   "id": "ed2b9a6f",
   "metadata": {},
   "outputs": [],
   "source": [
    "cuenta2={'numero':321,'titular':'Rosa Flores Rojas','saldo':65.0,'limite':10000.0}"
   ]
  },
  {
   "cell_type": "code",
   "execution_count": 6,
   "id": "cb461fc3",
   "metadata": {},
   "outputs": [],
   "source": [
    "from test import crear_cuenta\n",
    "cuenta = crear_cuenta(123,'Anacleto Metralla',100.0,1000.0)"
   ]
  },
  {
   "cell_type": "code",
   "execution_count": 7,
   "id": "8bc5add2",
   "metadata": {},
   "outputs": [
    {
     "data": {
      "text/plain": [
       "123"
      ]
     },
     "execution_count": 7,
     "metadata": {},
     "output_type": "execute_result"
    }
   ],
   "source": [
    "cuenta ['numero']"
   ]
  },
  {
   "cell_type": "code",
   "execution_count": 8,
   "id": "09f95ee0",
   "metadata": {},
   "outputs": [
    {
     "data": {
      "text/plain": [
       "'Anacleto Metralla'"
      ]
     },
     "execution_count": 8,
     "metadata": {},
     "output_type": "execute_result"
    }
   ],
   "source": [
    "cuenta ['titular']"
   ]
  },
  {
   "cell_type": "code",
   "execution_count": 9,
   "id": "dedc9d81",
   "metadata": {},
   "outputs": [
    {
     "name": "stdout",
     "output_type": "stream",
     "text": [
      "saldo actual es de Bs.130.0\n"
     ]
    }
   ],
   "source": [
    "from test import crear_cuenta,depositar,retirar,extracto\n",
    "cuenta = crear_cuenta(123,'Anacleto Metralla',100.0, 1000.0)\n",
    "depositar(cuenta,30)\n",
    "extracto(cuenta)"
   ]
  },
  {
   "cell_type": "code",
   "execution_count": 10,
   "id": "d3c3058e",
   "metadata": {},
   "outputs": [
    {
     "name": "stdout",
     "output_type": "stream",
     "text": [
      "saldo actual es de Bs.80.0\n"
     ]
    }
   ],
   "source": [
    "retirar (cuenta,50)\n",
    "extracto (cuenta)"
   ]
  },
  {
   "cell_type": "code",
   "execution_count": 11,
   "id": "33b3366e",
   "metadata": {},
   "outputs": [
    {
     "data": {
      "text/plain": [
       "200.0"
      ]
     },
     "execution_count": 11,
     "metadata": {},
     "output_type": "execute_result"
    }
   ],
   "source": [
    "cuenta['saldo']= cuenta['saldo']+120\n",
    "cuenta['saldo']"
   ]
  },
  {
   "cell_type": "code",
   "execution_count": 14,
   "id": "cf255df7",
   "metadata": {},
   "outputs": [],
   "source": [
    "cuenta2={'numero':123,'saldo':400}"
   ]
  },
  {
   "cell_type": "code",
   "execution_count": 17,
   "id": "94caa5b4",
   "metadata": {},
   "outputs": [],
   "source": [
    "depositar(cuenta2,100)"
   ]
  },
  {
   "cell_type": "code",
   "execution_count": 18,
   "id": "0e2670cd",
   "metadata": {},
   "outputs": [
    {
     "name": "stdout",
     "output_type": "stream",
     "text": [
      "saldo actual es de Bs.500\n"
     ]
    }
   ],
   "source": [
    "extracto(cuenta2)"
   ]
  },
  {
   "cell_type": "code",
   "execution_count": 21,
   "id": "496e94d6",
   "metadata": {},
   "outputs": [
    {
     "data": {
      "text/plain": [
       "'Anacleto Metralla'"
      ]
     },
     "execution_count": 21,
     "metadata": {},
     "output_type": "execute_result"
    }
   ],
   "source": [
    "cuenta['titular']"
   ]
  },
  {
   "cell_type": "code",
   "execution_count": 1,
   "id": "83e7de77",
   "metadata": {},
   "outputs": [],
   "source": [
    "class Cuenta:\n",
    "    pass\n"
   ]
  },
  {
   "cell_type": "code",
   "execution_count": 2,
   "id": "24d66af2",
   "metadata": {},
   "outputs": [
    {
     "data": {
      "text/plain": [
       "<cuenta.Cuenta at 0x2891da0ecd0>"
      ]
     },
     "execution_count": 2,
     "metadata": {},
     "output_type": "execute_result"
    }
   ],
   "source": [
    "from cuenta import Cuenta\n",
    "Cuenta()"
   ]
  },
  {
   "cell_type": "code",
   "execution_count": 3,
   "id": "fd74e250",
   "metadata": {},
   "outputs": [
    {
     "data": {
      "text/plain": [
       "<cuenta.Cuenta at 0x2891da1c6a0>"
      ]
     },
     "execution_count": 3,
     "metadata": {},
     "output_type": "execute_result"
    }
   ],
   "source": [
    "cuenta = Cuenta()\n",
    "cuenta"
   ]
  },
  {
   "cell_type": "code",
   "execution_count": null,
   "id": "c92962e7",
   "metadata": {},
   "outputs": [],
   "source": []
  }
 ],
 "metadata": {
  "kernelspec": {
   "display_name": "Python 3 (ipykernel)",
   "language": "python",
   "name": "python3"
  },
  "language_info": {
   "codemirror_mode": {
    "name": "ipython",
    "version": 3
   },
   "file_extension": ".py",
   "mimetype": "text/x-python",
   "name": "python",
   "nbconvert_exporter": "python",
   "pygments_lexer": "ipython3",
   "version": "3.9.13"
  }
 },
 "nbformat": 4,
 "nbformat_minor": 5
}
