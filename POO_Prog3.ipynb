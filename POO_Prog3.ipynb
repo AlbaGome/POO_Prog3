{
 "cells": [
  {
   "cell_type": "code",
   "execution_count": 1,
   "id": "3a305b6e",
   "metadata": {},
   "outputs": [],
   "source": [
    "numero = 123\n",
    "titular = 'Anacleto Metralla'\n",
    "saldo = 100.0\n",
    "limite = 1000.0\n"
   ]
  },
  {
   "cell_type": "code",
   "execution_count": 2,
   "id": "07d92548",
   "metadata": {},
   "outputs": [],
   "source": [
    "cuenta={'numero':123,'titular':'Anacleto Metralla','saldo':100.0,'limite':1000.0}"
   ]
  },
  {
   "cell_type": "code",
   "execution_count": 3,
   "id": "9caf7fef",
   "metadata": {},
   "outputs": [
    {
     "data": {
      "text/plain": [
       "123"
      ]
     },
     "execution_count": 3,
     "metadata": {},
     "output_type": "execute_result"
    }
   ],
   "source": [
    "cuenta['numero']"
   ]
  },
  {
   "cell_type": "code",
   "execution_count": 4,
   "id": "046cc1c0",
   "metadata": {},
   "outputs": [
    {
     "data": {
      "text/plain": [
       "100.0"
      ]
     },
     "execution_count": 4,
     "metadata": {},
     "output_type": "execute_result"
    }
   ],
   "source": [
    "cuenta['saldo']"
   ]
  },
  {
   "cell_type": "code",
   "execution_count": 5,
   "id": "ed2b9a6f",
   "metadata": {},
   "outputs": [],
   "source": [
    "cuenta2={'numero':321,'titular':'Rosa Flores Rojas','saldo':65.0,'limite':10000.0}"
   ]
  },
  {
   "cell_type": "code",
   "execution_count": 6,
   "id": "cb461fc3",
   "metadata": {},
   "outputs": [],
   "source": [
    "from test import crear_cuenta\n",
    "cuenta = crear_cuenta(123,'Anacleto Metralla',100.0,1000.0)"
   ]
  },
  {
   "cell_type": "code",
   "execution_count": 7,
   "id": "8bc5add2",
   "metadata": {},
   "outputs": [
    {
     "data": {
      "text/plain": [
       "123"
      ]
     },
     "execution_count": 7,
     "metadata": {},
     "output_type": "execute_result"
    }
   ],
   "source": [
    "cuenta ['numero']"
   ]
  },
  {
   "cell_type": "code",
   "execution_count": 8,
   "id": "09f95ee0",
   "metadata": {},
   "outputs": [
    {
     "data": {
      "text/plain": [
       "'Anacleto Metralla'"
      ]
     },
     "execution_count": 8,
     "metadata": {},
     "output_type": "execute_result"
    }
   ],
   "source": [
    "cuenta ['titular']"
   ]
  },
  {
   "cell_type": "code",
   "execution_count": 9,
   "id": "dedc9d81",
   "metadata": {},
   "outputs": [
    {
     "name": "stdout",
     "output_type": "stream",
     "text": [
      "saldo actual es de Bs.130.0\n"
     ]
    }
   ],
   "source": [
    "from test import crear_cuenta,depositar,retirar,extracto\n",
    "cuenta = crear_cuenta(123,'Anacleto Metralla',100.0, 1000.0)\n",
    "depositar(cuenta,30)\n",
    "extracto(cuenta)"
   ]
  },
  {
   "cell_type": "code",
   "execution_count": 10,
   "id": "d3c3058e",
   "metadata": {},
   "outputs": [
    {
     "name": "stdout",
     "output_type": "stream",
     "text": [
      "saldo actual es de Bs.80.0\n"
     ]
    }
   ],
   "source": [
    "retirar (cuenta,50)\n",
    "extracto (cuenta)"
   ]
  },
  {
   "cell_type": "code",
   "execution_count": 11,
   "id": "33b3366e",
   "metadata": {},
   "outputs": [
    {
     "data": {
      "text/plain": [
       "200.0"
      ]
     },
     "execution_count": 11,
     "metadata": {},
     "output_type": "execute_result"
    }
   ],
   "source": [
    "cuenta['saldo']= cuenta['saldo']+120\n",
    "cuenta['saldo']"
   ]
  },
  {
   "cell_type": "code",
   "execution_count": 12,
   "id": "cf255df7",
   "metadata": {},
   "outputs": [],
   "source": [
    "cuenta2={'numero':123,'saldo':400}"
   ]
  },
  {
   "cell_type": "code",
   "execution_count": 13,
   "id": "94caa5b4",
   "metadata": {},
   "outputs": [],
   "source": [
    "depositar(cuenta2,100)"
   ]
  },
  {
   "cell_type": "code",
   "execution_count": 14,
   "id": "0e2670cd",
   "metadata": {},
   "outputs": [
    {
     "name": "stdout",
     "output_type": "stream",
     "text": [
      "saldo actual es de Bs.500\n"
     ]
    }
   ],
   "source": [
    "extracto(cuenta2)"
   ]
  },
  {
   "cell_type": "code",
   "execution_count": 15,
   "id": "496e94d6",
   "metadata": {},
   "outputs": [
    {
     "data": {
      "text/plain": [
       "'Anacleto Metralla'"
      ]
     },
     "execution_count": 15,
     "metadata": {},
     "output_type": "execute_result"
    }
   ],
   "source": [
    "cuenta['titular']"
   ]
  },
  {
   "cell_type": "code",
   "execution_count": 16,
   "id": "83e7de77",
   "metadata": {},
   "outputs": [],
   "source": [
    "class Cuenta:\n",
    "    pass\n"
   ]
  },
  {
   "cell_type": "code",
   "execution_count": 17,
   "id": "24d66af2",
   "metadata": {},
   "outputs": [
    {
     "data": {
      "text/plain": [
       "<cuenta.Cuenta at 0x14ba1f80970>"
      ]
     },
     "execution_count": 17,
     "metadata": {},
     "output_type": "execute_result"
    }
   ],
   "source": [
    "from cuenta import Cuenta\n",
    "Cuenta()"
   ]
  },
  {
   "cell_type": "code",
   "execution_count": 18,
   "id": "fd74e250",
   "metadata": {},
   "outputs": [
    {
     "data": {
      "text/plain": [
       "<cuenta.Cuenta at 0x14ba1f8f0a0>"
      ]
     },
     "execution_count": 18,
     "metadata": {},
     "output_type": "execute_result"
    }
   ],
   "source": [
    "cuenta = Cuenta()\n",
    "cuenta"
   ]
  },
  {
   "cell_type": "markdown",
   "id": "b88e576d",
   "metadata": {},
   "source": [
    "### vamos a implementar nuestra clase... Cuenta"
   ]
  },
  {
   "cell_type": "code",
   "execution_count": 19,
   "id": "6e331999",
   "metadata": {},
   "outputs": [],
   "source": [
    "class Cuenta:\n",
    "    def __init__(self):\n",
    "        print(\"Construyendo el objeto...\")"
   ]
  },
  {
   "cell_type": "code",
   "execution_count": 20,
   "id": "c972fe7f",
   "metadata": {},
   "outputs": [
    {
     "data": {
      "text/plain": [
       "<cuenta.Cuenta at 0x14ba1f80040>"
      ]
     },
     "execution_count": 20,
     "metadata": {},
     "output_type": "execute_result"
    }
   ],
   "source": [
    "from cuenta import Cuenta\n",
    "cuenta = Cuenta()\n",
    "cuenta"
   ]
  },
  {
   "cell_type": "code",
   "execution_count": 21,
   "id": "cabb17e5",
   "metadata": {},
   "outputs": [],
   "source": [
    "class Cuenta:\n",
    "    def __init__(self):\n",
    "        print(\"Construyendo el objeto...{}\".format(self))"
   ]
  },
  {
   "cell_type": "code",
   "execution_count": 22,
   "id": "9ac46390",
   "metadata": {},
   "outputs": [],
   "source": [
    "from cuenta import Cuenta\n",
    "cuenta = Cuenta()"
   ]
  },
  {
   "cell_type": "code",
   "execution_count": 23,
   "id": "a6058207",
   "metadata": {},
   "outputs": [],
   "source": [
    "class Cuenta:\n",
    "    def __int__(self):\n",
    "        print(\"Construyendo el objeto...{}\".format(self))\n",
    "        self.numero = 123\n",
    "        self.titular= \"Anacleto Metralla\"\n",
    "        self.saldo =100.0\n",
    "        self.limite = 1000.0"
   ]
  },
  {
   "cell_type": "code",
   "execution_count": null,
   "id": "ad19285c",
   "metadata": {},
   "outputs": [],
   "source": [
    "class Cuenta:\n",
    "    def __int__(self,numero,titular,saldo,limite):\n",
    "        print(\"Construyendo el objeto...{}\".format(self))\n",
    "        self.numero = numero\n",
    "        self.titular= titular\n",
    "        self.saldo =saldo\n",
    "        self.limite = limite\n",
    "        #no ejecutar"
   ]
  },
  {
   "cell_type": "code",
   "execution_count": 24,
   "id": "7ff9ae5f",
   "metadata": {},
   "outputs": [
    {
     "ename": "TypeError",
     "evalue": "Cuenta() takes no arguments",
     "output_type": "error",
     "traceback": [
      "\u001b[1;31m---------------------------------------------------------------------------\u001b[0m",
      "\u001b[1;31mTypeError\u001b[0m                                 Traceback (most recent call last)",
      "\u001b[1;32m~\\AppData\\Local\\Temp\\ipykernel_8712\\411663506.py\u001b[0m in \u001b[0;36m<module>\u001b[1;34m\u001b[0m\n\u001b[0;32m      1\u001b[0m \u001b[1;32mfrom\u001b[0m \u001b[0mcuenta\u001b[0m \u001b[1;32mimport\u001b[0m \u001b[0mCuenta\u001b[0m\u001b[1;33m\u001b[0m\u001b[1;33m\u001b[0m\u001b[0m\n\u001b[1;32m----> 2\u001b[1;33m \u001b[0mcuenta\u001b[0m \u001b[1;33m=\u001b[0m \u001b[0mCuenta\u001b[0m\u001b[1;33m(\u001b[0m\u001b[1;36m123\u001b[0m\u001b[1;33m,\u001b[0m\u001b[1;34m'Anacleto Metralla'\u001b[0m\u001b[1;33m,\u001b[0m\u001b[1;36m100.0\u001b[0m\u001b[1;33m,\u001b[0m\u001b[1;36m1000.0\u001b[0m\u001b[1;33m)\u001b[0m\u001b[1;33m\u001b[0m\u001b[1;33m\u001b[0m\u001b[0m\n\u001b[0m",
      "\u001b[1;31mTypeError\u001b[0m: Cuenta() takes no arguments"
     ]
    }
   ],
   "source": [
    "from cuenta import Cuenta\n",
    "cuenta = Cuenta(123,'Anacleto Metralla',100.0,1000.0)"
   ]
  },
  {
   "cell_type": "code",
   "execution_count": null,
   "id": "a949dac0",
   "metadata": {},
   "outputs": [],
   "source": [
    "cuenta2 = Cuenta(321,'Rosa Flores Rojas',65.0,100.0)"
   ]
  },
  {
   "cell_type": "code",
   "execution_count": null,
   "id": "2e0f4a47",
   "metadata": {},
   "outputs": [],
   "source": [
    "cuenta.saldo"
   ]
  },
  {
   "cell_type": "code",
   "execution_count": null,
   "id": "5d29aa58",
   "metadata": {},
   "outputs": [],
   "source": [
    "cuenta.titular"
   ]
  },
  {
   "cell_type": "code",
   "execution_count": null,
   "id": "26029ae6",
   "metadata": {},
   "outputs": [],
   "source": [
    "cuenta2.saldo"
   ]
  },
  {
   "cell_type": "code",
   "execution_count": null,
   "id": "fab2609e",
   "metadata": {},
   "outputs": [],
   "source": []
  }
 ],
 "metadata": {
  "kernelspec": {
   "display_name": "Python 3 (ipykernel)",
   "language": "python",
   "name": "python3"
  },
  "language_info": {
   "codemirror_mode": {
    "name": "ipython",
    "version": 3
   },
   "file_extension": ".py",
   "mimetype": "text/x-python",
   "name": "python",
   "nbconvert_exporter": "python",
   "pygments_lexer": "ipython3",
   "version": "3.9.13"
  }
 },
 "nbformat": 4,
 "nbformat_minor": 5
}
