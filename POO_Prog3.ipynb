{
 "cells": [
  {
   "cell_type": "code",
   "execution_count": 3,
   "id": "3a305b6e",
   "metadata": {},
   "outputs": [],
   "source": [
    "numero = 123\n",
    "titular = 'Anacleto Metralla'\n",
    "saldo = 100.0\n",
    "limite = 1000.0\n"
   ]
  },
  {
   "cell_type": "code",
   "execution_count": 4,
   "id": "07d92548",
   "metadata": {},
   "outputs": [],
   "source": [
    "cuenta={'numero':123,'titular':'Anacleto Metralla','saldo':100.0,'limite':1000.0}"
   ]
  },
  {
   "cell_type": "code",
   "execution_count": 5,
   "id": "9caf7fef",
   "metadata": {},
   "outputs": [
    {
     "data": {
      "text/plain": [
       "123"
      ]
     },
     "execution_count": 5,
     "metadata": {},
     "output_type": "execute_result"
    }
   ],
   "source": [
    "cuenta['numero']"
   ]
  },
  {
   "cell_type": "code",
   "execution_count": 6,
   "id": "046cc1c0",
   "metadata": {},
   "outputs": [
    {
     "data": {
      "text/plain": [
       "100.0"
      ]
     },
     "execution_count": 6,
     "metadata": {},
     "output_type": "execute_result"
    }
   ],
   "source": [
    "cuenta['saldo']"
   ]
  },
  {
   "cell_type": "code",
   "execution_count": 7,
   "id": "ed2b9a6f",
   "metadata": {},
   "outputs": [],
   "source": [
    "cuenta2={'numero':321,'titular':'Rosa Flores Rojas','saldo':65.0,'limite':10000.0}"
   ]
  },
  {
   "cell_type": "code",
   "execution_count": 8,
   "id": "cb461fc3",
   "metadata": {},
   "outputs": [],
   "source": [
    "from test import crear_cuenta\n",
    "cuenta = crear_cuenta(123,'Anacleto Metralla',100.0,1000.0)"
   ]
  },
  {
   "cell_type": "code",
   "execution_count": 9,
   "id": "8bc5add2",
   "metadata": {},
   "outputs": [
    {
     "data": {
      "text/plain": [
       "123"
      ]
     },
     "execution_count": 9,
     "metadata": {},
     "output_type": "execute_result"
    }
   ],
   "source": [
    "cuenta ['numero']"
   ]
  },
  {
   "cell_type": "code",
   "execution_count": 10,
   "id": "09f95ee0",
   "metadata": {},
   "outputs": [
    {
     "data": {
      "text/plain": [
       "'Anacleto Metralla'"
      ]
     },
     "execution_count": 10,
     "metadata": {},
     "output_type": "execute_result"
    }
   ],
   "source": [
    "cuenta ['titular']"
   ]
  },
  {
   "cell_type": "code",
   "execution_count": 11,
   "id": "dedc9d81",
   "metadata": {},
   "outputs": [
    {
     "name": "stdout",
     "output_type": "stream",
     "text": [
      "saldo actual es de Bs.130.0\n"
     ]
    }
   ],
   "source": [
    "from test import crear_cuenta,depositar,retirar,extracto\n",
    "cuenta = crear_cuenta(123,'Anacleto Metralla',100.0, 1000.0)\n",
    "depositar(cuenta,30)\n",
    "extracto(cuenta)"
   ]
  },
  {
   "cell_type": "code",
   "execution_count": 12,
   "id": "d3c3058e",
   "metadata": {},
   "outputs": [
    {
     "name": "stdout",
     "output_type": "stream",
     "text": [
      "saldo actual es de Bs.80.0\n"
     ]
    }
   ],
   "source": [
    "retirar (cuenta,50)\n",
    "extracto (cuenta)"
   ]
  },
  {
   "cell_type": "code",
   "execution_count": 13,
   "id": "33b3366e",
   "metadata": {},
   "outputs": [
    {
     "data": {
      "text/plain": [
       "200.0"
      ]
     },
     "execution_count": 13,
     "metadata": {},
     "output_type": "execute_result"
    }
   ],
   "source": [
    "cuenta['saldo']= cuenta['saldo']+120\n",
    "cuenta['saldo']"
   ]
  },
  {
   "cell_type": "code",
   "execution_count": 14,
   "id": "cf255df7",
   "metadata": {},
   "outputs": [],
   "source": [
    "cuenta2={'numero':123,'saldo':400}"
   ]
  },
  {
   "cell_type": "code",
   "execution_count": 15,
   "id": "94caa5b4",
   "metadata": {},
   "outputs": [],
   "source": [
    "depositar(cuenta2,100)"
   ]
  },
  {
   "cell_type": "code",
   "execution_count": 16,
   "id": "0e2670cd",
   "metadata": {},
   "outputs": [
    {
     "name": "stdout",
     "output_type": "stream",
     "text": [
      "saldo actual es de Bs.500\n"
     ]
    }
   ],
   "source": [
    "extracto(cuenta2)"
   ]
  },
  {
   "cell_type": "code",
   "execution_count": 17,
   "id": "496e94d6",
   "metadata": {},
   "outputs": [
    {
     "data": {
      "text/plain": [
       "'Anacleto Metralla'"
      ]
     },
     "execution_count": 17,
     "metadata": {},
     "output_type": "execute_result"
    }
   ],
   "source": [
    "cuenta['titular']"
   ]
  },
  {
   "cell_type": "code",
   "execution_count": 18,
   "id": "83e7de77",
   "metadata": {},
   "outputs": [],
   "source": [
    "class Cuenta:\n",
    "    pass\n"
   ]
  },
  {
   "cell_type": "code",
   "execution_count": 19,
   "id": "24d66af2",
   "metadata": {},
   "outputs": [
    {
     "data": {
      "text/plain": [
       "<cuenta.Cuenta at 0x23ea208b940>"
      ]
     },
     "execution_count": 19,
     "metadata": {},
     "output_type": "execute_result"
    }
   ],
   "source": [
    "from cuenta import Cuenta\n",
    "Cuenta()"
   ]
  },
  {
   "cell_type": "code",
   "execution_count": 20,
   "id": "fd74e250",
   "metadata": {},
   "outputs": [
    {
     "data": {
      "text/plain": [
       "<cuenta.Cuenta at 0x23ea2090940>"
      ]
     },
     "execution_count": 20,
     "metadata": {},
     "output_type": "execute_result"
    }
   ],
   "source": [
    "cuenta = Cuenta()\n",
    "cuenta"
   ]
  },
  {
   "cell_type": "markdown",
   "id": "a2c0663c",
   "metadata": {},
   "source": [
    "### vamos a implementar nuestra clase... Cuenta"
   ]
  },
  {
   "cell_type": "code",
   "execution_count": 21,
   "id": "95750e41",
   "metadata": {},
   "outputs": [],
   "source": [
    "class Cuenta:\n",
    "    def __init__(self):\n",
    "        print(\"Construyendo el objeto...\")"
   ]
  },
  {
   "cell_type": "code",
   "execution_count": 22,
   "id": "c99c257b",
   "metadata": {},
   "outputs": [
    {
     "data": {
      "text/plain": [
       "<cuenta.Cuenta at 0x23ea2090040>"
      ]
     },
     "execution_count": 22,
     "metadata": {},
     "output_type": "execute_result"
    }
   ],
   "source": [
    "from cuenta import Cuenta\n",
    "cuenta = Cuenta()\n",
    "cuenta"
   ]
  },
  {
   "cell_type": "code",
   "execution_count": 23,
   "id": "cd49fc39",
   "metadata": {},
   "outputs": [],
   "source": [
    "class Cuenta:\n",
    "    def __init__(self):\n",
    "        print(\"Construyendo el objeto...{}\".format(self))"
   ]
  },
  {
   "cell_type": "code",
   "execution_count": 24,
   "id": "f7df96b6",
   "metadata": {},
   "outputs": [],
   "source": [
    "from cuenta  import Cuenta\n",
    "cuenta = Cuenta()"
   ]
  },
  {
   "cell_type": "code",
   "execution_count": 25,
   "id": "dfd21d97",
   "metadata": {},
   "outputs": [],
   "source": [
    "class Cuenta:\n",
    "    def __int__(self):\n",
    "        print(\"Construyendo el objeto...{}\".format(self))\n",
    "        self.numero = 123\n",
    "        self.titular= \"Anacleto Metralla\"\n",
    "        self.saldo =100.0\n",
    "        self.limite = 1000.0"
   ]
  },
  {
   "cell_type": "code",
   "execution_count": 26,
   "id": "d98c04a3",
   "metadata": {},
   "outputs": [],
   "source": []
  },
  {
   "cell_type": "code",
   "execution_count": null,
   "id": "73fcec7f",
   "metadata": {},
   "outputs": [],
   "source": []
  }
 ],
 "metadata": {
  "kernelspec": {
   "display_name": "Python 3 (ipykernel)",
   "language": "python",
   "name": "python3"
  },
  "language_info": {
   "codemirror_mode": {
    "name": "ipython",
    "version": 3
   },
   "file_extension": ".py",
   "mimetype": "text/x-python",
   "name": "python",
   "nbconvert_exporter": "python",
   "pygments_lexer": "ipython3",
   "version": "3.9.13"
  }
 },
 "nbformat": 4,
 "nbformat_minor": 5
}
