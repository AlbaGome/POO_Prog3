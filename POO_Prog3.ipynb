{
 "cells": [
  {
   "cell_type": "code",
   "execution_count": null,
   "id": "3a305b6e",
   "metadata": {},
   "outputs": [],
   "source": [
    "numero = 123\n",
    "titular = 'Anacleto Metralla'\n",
    "saldo = 100.0\n",
    "limite = 1000.0\n"
   ]
  },
  {
   "cell_type": "code",
   "execution_count": null,
   "id": "07d92548",
   "metadata": {},
   "outputs": [],
   "source": [
    "cuenta={'numero':123,'titular':'Anacleto Metralla','saldo':100.0,'limite':1000.0}"
   ]
  },
  {
   "cell_type": "code",
   "execution_count": null,
   "id": "9caf7fef",
   "metadata": {},
   "outputs": [],
   "source": [
    "cuenta['numero']"
   ]
  },
  {
   "cell_type": "code",
   "execution_count": null,
   "id": "046cc1c0",
   "metadata": {},
   "outputs": [],
   "source": [
    "cuenta['saldo']"
   ]
  },
  {
   "cell_type": "code",
   "execution_count": null,
   "id": "ed2b9a6f",
   "metadata": {},
   "outputs": [],
   "source": [
    "cuenta2={'numero':321,'titular':'Rosa Flores Rojas','saldo':65.0,'limite':10000.0}"
   ]
  },
  {
   "cell_type": "code",
   "execution_count": null,
   "id": "cb461fc3",
   "metadata": {},
   "outputs": [],
   "source": [
    "from test import crear_cuenta\n",
    "cuenta = crear_cuenta(123,'Anacleto Metralla',100.0,1000.0)"
   ]
  },
  {
   "cell_type": "code",
   "execution_count": null,
   "id": "8bc5add2",
   "metadata": {},
   "outputs": [],
   "source": [
    "cuenta ['numero']"
   ]
  },
  {
   "cell_type": "code",
   "execution_count": null,
   "id": "09f95ee0",
   "metadata": {},
   "outputs": [],
   "source": [
    "cuenta ['titular']"
   ]
  },
  {
   "cell_type": "code",
   "execution_count": null,
   "id": "dedc9d81",
   "metadata": {},
   "outputs": [],
   "source": [
    "from test import crear_cuenta,depositar,retirar,extracto\n",
    "cuenta = crear_cuenta(123,'Anacleto Metralla',100.0, 1000.0)\n",
    "depositar(cuenta,30)\n",
    "extracto(cuenta)"
   ]
  },
  {
   "cell_type": "code",
   "execution_count": null,
   "id": "d3c3058e",
   "metadata": {},
   "outputs": [],
   "source": [
    "retirar (cuenta,50)\n",
    "extracto (cuenta)"
   ]
  },
  {
   "cell_type": "code",
   "execution_count": null,
   "id": "33b3366e",
   "metadata": {},
   "outputs": [],
   "source": [
    "cuenta['saldo']= cuenta['saldo']+120\n",
    "cuenta['saldo']"
   ]
  },
  {
   "cell_type": "code",
   "execution_count": null,
   "id": "cf255df7",
   "metadata": {},
   "outputs": [],
   "source": [
    "cuenta2={'numero':123,'saldo':400}"
   ]
  },
  {
   "cell_type": "code",
   "execution_count": null,
   "id": "94caa5b4",
   "metadata": {},
   "outputs": [],
   "source": [
    "depositar(cuenta2,100)"
   ]
  },
  {
   "cell_type": "code",
   "execution_count": null,
   "id": "0e2670cd",
   "metadata": {},
   "outputs": [],
   "source": [
    "extracto(cuenta2)"
   ]
  },
  {
   "cell_type": "code",
   "execution_count": null,
   "id": "496e94d6",
   "metadata": {},
   "outputs": [],
   "source": [
    "cuenta['titular']"
   ]
  },
  {
   "cell_type": "code",
   "execution_count": null,
   "id": "83e7de77",
   "metadata": {},
   "outputs": [],
   "source": [
    "class Cuenta:\n",
    "    pass\n"
   ]
  },
  {
   "cell_type": "code",
   "execution_count": null,
   "id": "24d66af2",
   "metadata": {},
   "outputs": [],
   "source": [
    "from cuenta import Cuenta\n",
    "Cuenta()"
   ]
  },
  {
   "cell_type": "code",
   "execution_count": null,
   "id": "fd74e250",
   "metadata": {},
   "outputs": [],
   "source": [
    "cuenta = Cuenta()\n",
    "cuenta"
   ]
  },
  {
   "cell_type": "markdown",
   "id": "37bda842",
   "metadata": {},
   "source": [
    "### vamos a implementar nuestra clase... Cuenta"
   ]
  },
  {
   "cell_type": "code",
   "execution_count": null,
   "id": "404a235b",
   "metadata": {},
   "outputs": [],
   "source": [
    "class Cuenta:\n",
    "    def __init__(self):\n",
    "        print(\"Construyendo el objeto...\")"
   ]
  },
  {
   "cell_type": "code",
   "execution_count": null,
   "id": "a39d2704",
   "metadata": {},
   "outputs": [],
   "source": [
    "from cuenta import Cuenta\n",
    "cuenta = Cuenta()\n",
    "cuenta"
   ]
  },
  {
   "cell_type": "code",
   "execution_count": null,
   "id": "8ebe0d7c",
   "metadata": {},
   "outputs": [],
   "source": [
    "class Cuenta:\n",
    "    def __init__(self):\n",
    "        print(\"Construyendo el objeto...{}\".format(self))"
   ]
  },
  {
   "cell_type": "code",
   "execution_count": null,
   "id": "5d77169a",
   "metadata": {},
   "outputs": [],
   "source": [
    "from cuenta import Cuenta\n",
    "cuenta = Cuenta()"
   ]
  },
  {
   "cell_type": "code",
   "execution_count": null,
   "id": "de1216dd",
   "metadata": {},
   "outputs": [],
   "source": [
    "class Cuenta:\n",
    "    def __int__(self):\n",
    "        print(\"Construyendo el objeto...{}\".format(self))\n",
    "        self.numero = 123\n",
    "        self.titular= \"Anacleto Metralla\"\n",
    "        self.saldo =100.0\n",
    "        self.limite = 1000.0"
   ]
  },
  {
   "cell_type": "code",
   "execution_count": null,
   "id": "21064ff5",
   "metadata": {},
   "outputs": [],
   "source": [
    "class Cuenta:\n",
    "    def __int__(self,numero,titular,saldo,limite):\n",
    "        print(\"Construyendo el objeto...{}\".format(self))\n",
    "        self.numero = numero\n",
    "        self.titular= titular\n",
    "        self.saldo =saldo\n",
    "        self.limite = limite\n",
    "        #no ejecutar"
   ]
  },
  {
   "cell_type": "code",
   "execution_count": null,
   "id": "8a68e5b9",
   "metadata": {},
   "outputs": [],
   "source": [
    "from cuenta import Cuenta\n",
    "cuenta = Cuenta(123,'Anacleto Metralla',100.0,1000.0)"
   ]
  },
  {
   "cell_type": "code",
   "execution_count": null,
   "id": "93677c76",
   "metadata": {},
   "outputs": [],
   "source": [
    "cuenta2 = Cuenta(321,'Rosa Flores Rojas',65.0,100.0)"
   ]
  },
  {
   "cell_type": "code",
   "execution_count": null,
   "id": "ac887a2e",
   "metadata": {},
   "outputs": [],
   "source": [
    "cuenta.saldo"
   ]
  },
  {
   "cell_type": "code",
   "execution_count": null,
   "id": "9e863ce7",
   "metadata": {},
   "outputs": [],
   "source": [
    "cuenta.titular"
   ]
  },
  {
   "cell_type": "code",
   "execution_count": null,
   "id": "3b529aed",
   "metadata": {},
   "outputs": [],
   "source": [
    "cuenta2.saldo"
   ]
  },
  {
   "cell_type": "code",
   "execution_count": null,
   "id": "b3dd573e",
   "metadata": {},
   "outputs": [],
   "source": [
    "class Cuenta:\n",
    "    def _init_(self,numero, titular,saldo,limite):\n",
    "        print(\"Construyendo el objeto...{}\".format(self))\n",
    "        self.numero =numero\n",
    "        self.titular =titular\n",
    "        self.saldo=saldo\n",
    "        self.limite=limite \n",
    "        \n",
    "    def extracto():\n",
    "        print('saldo {} del titular {}'.format (self.saldo,self.titular))\n",
    "        # no ejecutar"
   ]
  },
  {
   "cell_type": "code",
   "execution_count": null,
   "id": "112078b6",
   "metadata": {},
   "outputs": [],
   "source": [
    "from cuenta import Cuenta\n",
    "cuenta = Cuenta(123,'Anacleto Metralla',100.0,1000.0)"
   ]
  },
  {
   "cell_type": "code",
   "execution_count": null,
   "id": "07ecf190",
   "metadata": {},
   "outputs": [],
   "source": [
    "extracto()"
   ]
  },
  {
   "cell_type": "code",
   "execution_count": 1,
   "id": "8eb9d8ba",
   "metadata": {},
   "outputs": [
    {
     "name": "stdout",
     "output_type": "stream",
     "text": [
      "Construyendo el objeto...<cuenta.Cuenta object at 0x000001BE66E8A070>\n"
     ]
    }
   ],
   "source": [
    "from cuenta import Cuenta\n",
    "cuenta = Cuenta(123,'Anacleto Metralla',100.0,1000.0)"
   ]
  },
  {
   "cell_type": "code",
   "execution_count": 2,
   "id": "71b1ffc6",
   "metadata": {},
   "outputs": [
    {
     "name": "stdout",
     "output_type": "stream",
     "text": [
      "Construyendo el objeto...<cuenta.Cuenta object at 0x000001BE66ECAAF0>\n"
     ]
    }
   ],
   "source": [
    "cuenta2 = Cuenta(321,'Rosa Flores Rojas',65.0,1000.0)"
   ]
  },
  {
   "cell_type": "code",
   "execution_count": 3,
   "id": "65d2e6d9",
   "metadata": {},
   "outputs": [
    {
     "name": "stdout",
     "output_type": "stream",
     "text": [
      "saldo 100.0 del titular Anacleto Metralla\n"
     ]
    }
   ],
   "source": [
    "cuenta.extracto()"
   ]
  },
  {
   "cell_type": "code",
   "execution_count": 4,
   "id": "82d312f8",
   "metadata": {},
   "outputs": [
    {
     "name": "stdout",
     "output_type": "stream",
     "text": [
      "saldo 65.0 del titular Rosa Flores Rojas\n"
     ]
    }
   ],
   "source": [
    "cuenta2.extracto()"
   ]
  },
  {
   "cell_type": "code",
   "execution_count": 5,
   "id": "789144f7",
   "metadata": {},
   "outputs": [],
   "source": [
    "cuenta.depositar(50)"
   ]
  },
  {
   "cell_type": "code",
   "execution_count": 6,
   "id": "40283a38",
   "metadata": {},
   "outputs": [
    {
     "name": "stdout",
     "output_type": "stream",
     "text": [
      "saldo 150.0 del titular Anacleto Metralla\n"
     ]
    }
   ],
   "source": [
    "cuenta.extracto()"
   ]
  },
  {
   "cell_type": "code",
   "execution_count": 7,
   "id": "b2207873",
   "metadata": {},
   "outputs": [],
   "source": [
    "cuenta.retirar(20.0)"
   ]
  },
  {
   "cell_type": "code",
   "execution_count": 8,
   "id": "98ac5616",
   "metadata": {},
   "outputs": [
    {
     "name": "stdout",
     "output_type": "stream",
     "text": [
      "saldo 130.0 del titular Anacleto Metralla\n"
     ]
    }
   ],
   "source": [
    "cuenta.extracto()"
   ]
  },
  {
   "cell_type": "code",
   "execution_count": 10,
   "id": "bbda045d",
   "metadata": {},
   "outputs": [],
   "source": [
    "cuenta.retirar(200.0)"
   ]
  },
  {
   "cell_type": "code",
   "execution_count": 11,
   "id": "06aa9875",
   "metadata": {},
   "outputs": [
    {
     "name": "stdout",
     "output_type": "stream",
     "text": [
      "saldo -270.0 del titular Anacleto Metralla\n"
     ]
    }
   ],
   "source": [
    "cuenta.extracto()\n"
   ]
  },
  {
   "cell_type": "code",
   "execution_count": null,
   "id": "263c9583",
   "metadata": {},
   "outputs": [],
   "source": []
  }
 ],
 "metadata": {
  "kernelspec": {
   "display_name": "Python 3 (ipykernel)",
   "language": "python",
   "name": "python3"
  },
  "language_info": {
   "codemirror_mode": {
    "name": "ipython",
    "version": 3
   },
   "file_extension": ".py",
   "mimetype": "text/x-python",
   "name": "python",
   "nbconvert_exporter": "python",
   "pygments_lexer": "ipython3",
   "version": "3.9.13"
  }
 },
 "nbformat": 4,
 "nbformat_minor": 5
}
